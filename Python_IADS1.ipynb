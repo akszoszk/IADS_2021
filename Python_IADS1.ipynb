{
  "nbformat": 4,
  "nbformat_minor": 0,
  "metadata": {
    "colab": {
      "name": "Python_IADS1",
      "provenance": [],
      "authorship_tag": "ABX9TyOr8MSToqvpqEChPRFYzv2m",
      "include_colab_link": true
    },
    "kernelspec": {
      "name": "python3",
      "display_name": "Python 3"
    },
    "language_info": {
      "name": "python"
    }
  },
  "cells": [
    {
      "cell_type": "markdown",
      "metadata": {
        "id": "view-in-github",
        "colab_type": "text"
      },
      "source": [
        "<a href=\"https://colab.research.google.com/github/akszoszk/IADS_2021/blob/main/Python_IADS1.ipynb\" target=\"_parent\"><img src=\"https://colab.research.google.com/assets/colab-badge.svg\" alt=\"Open In Colab\"/></a>"
      ]
    },
    {
      "cell_type": "code",
      "metadata": {
        "id": "ZGx1agBmBFaE",
        "colab": {
          "base_uri": "https://localhost:8080/"
        },
        "outputId": "a9377873-dd85-4ebf-c37d-f05dd25d9923"
      },
      "source": [
        "print('Welcome to Summer school')"
      ],
      "execution_count": null,
      "outputs": [
        {
          "output_type": "stream",
          "text": [
            "Welcome to Summer school\n"
          ],
          "name": "stdout"
        }
      ]
    },
    {
      "cell_type": "markdown",
      "metadata": {
        "id": "F6LfYoJDBaoq"
      },
      "source": [
        "This is my first code in Python\n"
      ]
    },
    {
      "cell_type": "markdown",
      "metadata": {
        "id": "y9fxycS-Bhkj"
      },
      "source": [
        ""
      ]
    },
    {
      "cell_type": "code",
      "metadata": {
        "id": "HcZvx-giBUYX"
      },
      "source": [
        ""
      ],
      "execution_count": null,
      "outputs": []
    },
    {
      "cell_type": "code",
      "metadata": {
        "id": "88eeldAfBis6"
      },
      "source": [
        ""
      ],
      "execution_count": null,
      "outputs": []
    }
  ]
}